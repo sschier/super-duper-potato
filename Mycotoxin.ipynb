{
 "cells": [
  {
   "cell_type": "code",
   "execution_count": 13,
   "metadata": {},
   "outputs": [],
   "source": [
    "import pandas as pd\n",
    "import psycopg2\n",
    "import sqlalchemy\n",
    "from matplotlib import pyplot as plt\n",
    "import numpy as np\n",
    "import pickle as pkl\n",
    "import seaborn as sns\n",
    "\n",
    "%matplotlib inline"
   ]
  },
  {
   "cell_type": "code",
   "execution_count": 2,
   "metadata": {},
   "outputs": [],
   "source": [
    "df = pd.read_pickle('./pkls/has_mycotoxin.pkl')"
   ]
  },
  {
   "cell_type": "markdown",
   "metadata": {},
   "source": [
    "<h5>Clean and flatten data from mycotoxin test results</h5>"
   ]
  },
  {
   "cell_type": "code",
   "execution_count": 4,
   "metadata": {},
   "outputs": [
    {
     "name": "stderr",
     "output_type": "stream",
     "text": [
      "/anaconda3/lib/python3.5/site-packages/pandas/core/frame.py:6211: FutureWarning: Sorting because non-concatenation axis is not aligned. A future version\n",
      "of pandas will change to not sort by default.\n",
      "\n",
      "To accept the future behavior, pass 'sort=False'.\n",
      "\n",
      "To retain the current behavior and silence the warning, pass 'sort=True'.\n",
      "\n",
      "  sort=sort)\n"
     ]
    },
    {
     "name": "stdout",
     "output_type": "stream",
     "text": [
      "0\n",
      "  Aflatoxin B1 Aflatoxin B2 Aflatoxin G1 Aflatoxin G2 Aflatoxins Ochratoxin A  \\\n",
      "0            0            0            0            0          0            0   \n",
      "1            0            0            0            0          0            0   \n",
      "2            0            0            0            0          0            0   \n",
      "3            0            0            0            0          0            0   \n",
      "4            0            0            0            0          0            0   \n",
      "\n",
      "    index  \n",
      "0  amount  \n",
      "1  amount  \n",
      "2  amount  \n",
      "3  amount  \n",
      "4  amount  \n"
     ]
    }
   ],
   "source": [
    "df_mycotoxin_results = pd.DataFrame()\n",
    "not_included = 0\n",
    "\n",
    "for index, row in df.iterrows():\n",
    "    \n",
    "    # Check if type is dictionary, both formats (lists and dicts) will appear\n",
    "    is_dict = type(row['coa_data']['mycotoxin_test']) is dict\n",
    "    \n",
    "    # Pull out mycotoxin test\n",
    "    mycotoxin_test = row['coa_data']['mycotoxin_test']['results'] if is_dict else row['coa_data']['mycotoxin_test'][0]['results']\n",
    "    \n",
    "    if type(mycotoxin_test) is not dict:\n",
    "        not_included += 1\n",
    "        continue\n",
    "        \n",
    "    # Create temporary df from each row of mycotoxin results to merge with other rows of data\n",
    "    # Only keep entry 'amount'\n",
    "    temp_df = pd.DataFrame.from_dict(mycotoxin_test)\n",
    "    temp_df = temp_df[temp_df.index == 'amount'].reset_index()\n",
    "    \n",
    "    df_mycotoxin_results = df_mycotoxin_results.append(temp_df, ignore_index = True)\n",
    "    \n",
    "print(not_included)\n",
    "print(df_mycotoxin_results.head())"
   ]
  },
  {
   "cell_type": "code",
   "execution_count": 5,
   "metadata": {},
   "outputs": [
    {
     "data": {
      "text/html": [
       "<div>\n",
       "<style scoped>\n",
       "    .dataframe tbody tr th:only-of-type {\n",
       "        vertical-align: middle;\n",
       "    }\n",
       "\n",
       "    .dataframe tbody tr th {\n",
       "        vertical-align: top;\n",
       "    }\n",
       "\n",
       "    .dataframe thead th {\n",
       "        text-align: right;\n",
       "    }\n",
       "</style>\n",
       "<table border=\"1\" class=\"dataframe\">\n",
       "  <thead>\n",
       "    <tr style=\"text-align: right;\">\n",
       "      <th></th>\n",
       "      <th>Aflatoxin B1</th>\n",
       "      <th>Aflatoxin B2</th>\n",
       "      <th>Aflatoxin G1</th>\n",
       "      <th>Aflatoxin G2</th>\n",
       "      <th>Aflatoxins</th>\n",
       "      <th>Ochratoxin A</th>\n",
       "      <th>index</th>\n",
       "    </tr>\n",
       "  </thead>\n",
       "  <tbody>\n",
       "    <tr>\n",
       "      <th>count</th>\n",
       "      <td>5406</td>\n",
       "      <td>5406</td>\n",
       "      <td>5406.0</td>\n",
       "      <td>5406</td>\n",
       "      <td>5379.0</td>\n",
       "      <td>5406</td>\n",
       "      <td>5406</td>\n",
       "    </tr>\n",
       "    <tr>\n",
       "      <th>unique</th>\n",
       "      <td>1</td>\n",
       "      <td>2</td>\n",
       "      <td>5.0</td>\n",
       "      <td>2</td>\n",
       "      <td>5.0</td>\n",
       "      <td>1</td>\n",
       "      <td>1</td>\n",
       "    </tr>\n",
       "    <tr>\n",
       "      <th>top</th>\n",
       "      <td>0</td>\n",
       "      <td>0</td>\n",
       "      <td>0.0</td>\n",
       "      <td>0</td>\n",
       "      <td>0.0</td>\n",
       "      <td>0</td>\n",
       "      <td>amount</td>\n",
       "    </tr>\n",
       "    <tr>\n",
       "      <th>freq</th>\n",
       "      <td>5406</td>\n",
       "      <td>5405</td>\n",
       "      <td>5402.0</td>\n",
       "      <td>5405</td>\n",
       "      <td>5375.0</td>\n",
       "      <td>5406</td>\n",
       "      <td>5406</td>\n",
       "    </tr>\n",
       "  </tbody>\n",
       "</table>\n",
       "</div>"
      ],
      "text/plain": [
       "        Aflatoxin B1  Aflatoxin B2  Aflatoxin G1  Aflatoxin G2  Aflatoxins  \\\n",
       "count           5406          5406        5406.0          5406      5379.0   \n",
       "unique             1             2           5.0             2         5.0   \n",
       "top                0             0           0.0             0         0.0   \n",
       "freq            5406          5405        5402.0          5405      5375.0   \n",
       "\n",
       "        Ochratoxin A   index  \n",
       "count           5406    5406  \n",
       "unique             1       1  \n",
       "top                0  amount  \n",
       "freq            5406    5406  "
      ]
     },
     "execution_count": 5,
     "metadata": {},
     "output_type": "execute_result"
    }
   ],
   "source": [
    "df_mycotoxin_results.describe()"
   ]
  },
  {
   "cell_type": "markdown",
   "metadata": {},
   "source": [
    "<h5>Look at unique values in columns</h5>"
   ]
  },
  {
   "cell_type": "code",
   "execution_count": 6,
   "metadata": {},
   "outputs": [
    {
     "name": "stdout",
     "output_type": "stream",
     "text": [
      "[0]\n",
      "[0 '< 0']\n",
      "[0 0.69 0.39 0.37 0.3]\n",
      "[0 '< 0']\n",
      "[0 nan 0.69 0.39 0.37 0.3]\n",
      "[0]\n",
      "['amount']\n"
     ]
    }
   ],
   "source": [
    "for column in df_mycotoxin_results.columns:\n",
    "    print(df_mycotoxin_results[column].unique())"
   ]
  },
  {
   "cell_type": "code",
   "execution_count": 7,
   "metadata": {},
   "outputs": [
    {
     "data": {
      "text/html": [
       "<div>\n",
       "<style scoped>\n",
       "    .dataframe tbody tr th:only-of-type {\n",
       "        vertical-align: middle;\n",
       "    }\n",
       "\n",
       "    .dataframe tbody tr th {\n",
       "        vertical-align: top;\n",
       "    }\n",
       "\n",
       "    .dataframe thead th {\n",
       "        text-align: right;\n",
       "    }\n",
       "</style>\n",
       "<table border=\"1\" class=\"dataframe\">\n",
       "  <thead>\n",
       "    <tr style=\"text-align: right;\">\n",
       "      <th></th>\n",
       "      <th>Aflatoxin B1</th>\n",
       "      <th>Aflatoxin B2</th>\n",
       "      <th>Aflatoxin G1</th>\n",
       "      <th>Aflatoxin G2</th>\n",
       "      <th>Aflatoxins</th>\n",
       "      <th>Ochratoxin A</th>\n",
       "    </tr>\n",
       "  </thead>\n",
       "  <tbody>\n",
       "    <tr>\n",
       "      <th>count</th>\n",
       "      <td>5406.0</td>\n",
       "      <td>5406.0</td>\n",
       "      <td>5406.000000</td>\n",
       "      <td>5406.0</td>\n",
       "      <td>5379.000000</td>\n",
       "      <td>5406.0</td>\n",
       "    </tr>\n",
       "    <tr>\n",
       "      <th>mean</th>\n",
       "      <td>0.0</td>\n",
       "      <td>0.0</td>\n",
       "      <td>0.000324</td>\n",
       "      <td>0.0</td>\n",
       "      <td>0.000325</td>\n",
       "      <td>0.0</td>\n",
       "    </tr>\n",
       "    <tr>\n",
       "      <th>std</th>\n",
       "      <td>0.0</td>\n",
       "      <td>0.0</td>\n",
       "      <td>0.012574</td>\n",
       "      <td>0.0</td>\n",
       "      <td>0.012605</td>\n",
       "      <td>0.0</td>\n",
       "    </tr>\n",
       "    <tr>\n",
       "      <th>min</th>\n",
       "      <td>0.0</td>\n",
       "      <td>0.0</td>\n",
       "      <td>0.000000</td>\n",
       "      <td>0.0</td>\n",
       "      <td>0.000000</td>\n",
       "      <td>0.0</td>\n",
       "    </tr>\n",
       "    <tr>\n",
       "      <th>25%</th>\n",
       "      <td>0.0</td>\n",
       "      <td>0.0</td>\n",
       "      <td>0.000000</td>\n",
       "      <td>0.0</td>\n",
       "      <td>0.000000</td>\n",
       "      <td>0.0</td>\n",
       "    </tr>\n",
       "    <tr>\n",
       "      <th>50%</th>\n",
       "      <td>0.0</td>\n",
       "      <td>0.0</td>\n",
       "      <td>0.000000</td>\n",
       "      <td>0.0</td>\n",
       "      <td>0.000000</td>\n",
       "      <td>0.0</td>\n",
       "    </tr>\n",
       "    <tr>\n",
       "      <th>75%</th>\n",
       "      <td>0.0</td>\n",
       "      <td>0.0</td>\n",
       "      <td>0.000000</td>\n",
       "      <td>0.0</td>\n",
       "      <td>0.000000</td>\n",
       "      <td>0.0</td>\n",
       "    </tr>\n",
       "    <tr>\n",
       "      <th>max</th>\n",
       "      <td>0.0</td>\n",
       "      <td>0.0</td>\n",
       "      <td>0.690000</td>\n",
       "      <td>0.0</td>\n",
       "      <td>0.690000</td>\n",
       "      <td>0.0</td>\n",
       "    </tr>\n",
       "  </tbody>\n",
       "</table>\n",
       "</div>"
      ],
      "text/plain": [
       "       Aflatoxin B1  Aflatoxin B2  Aflatoxin G1  Aflatoxin G2   Aflatoxins  \\\n",
       "count        5406.0        5406.0   5406.000000        5406.0  5379.000000   \n",
       "mean            0.0           0.0      0.000324           0.0     0.000325   \n",
       "std             0.0           0.0      0.012574           0.0     0.012605   \n",
       "min             0.0           0.0      0.000000           0.0     0.000000   \n",
       "25%             0.0           0.0      0.000000           0.0     0.000000   \n",
       "50%             0.0           0.0      0.000000           0.0     0.000000   \n",
       "75%             0.0           0.0      0.000000           0.0     0.000000   \n",
       "max             0.0           0.0      0.690000           0.0     0.690000   \n",
       "\n",
       "       Ochratoxin A  \n",
       "count        5406.0  \n",
       "mean            0.0  \n",
       "std             0.0  \n",
       "min             0.0  \n",
       "25%             0.0  \n",
       "50%             0.0  \n",
       "75%             0.0  \n",
       "max             0.0  "
      ]
     },
     "execution_count": 7,
     "metadata": {},
     "output_type": "execute_result"
    }
   ],
   "source": [
    "for column in df_mycotoxin_results.columns:\n",
    "    df_mycotoxin_results[column].replace('< 0', 0, inplace=True)\n",
    "df_mycotoxin_results.describe()"
   ]
  },
  {
   "cell_type": "markdown",
   "metadata": {},
   "source": [
    "<h5>Check general shape of original data</h5>"
   ]
  },
  {
   "cell_type": "code",
   "execution_count": 10,
   "metadata": {},
   "outputs": [
    {
     "name": "stdout",
     "output_type": "stream",
     "text": [
      "2\n",
      "{'Aflatoxins': {'analyte': 'Aflatoxins', 'passed': True, 'amount': 0, 'units': 'µg/kg'}, 'Aflatoxin B2': {'analyte': 'Aflatoxin B2', 'passed': True, 'amount': 0, 'units': 'µg/kg'}, 'Aflatoxin G2': {'analyte': 'Aflatoxin G2', 'passed': True, 'amount': 0, 'units': 'µg/kg'}, 'Aflatoxin G1': {'analyte': 'Aflatoxin G1', 'passed': True, 'amount': 0, 'units': 'µg/kg'}, 'Ochratoxin A': {'analyte': 'Ochratoxin A', 'passed': True, 'amount': 0, 'units': 'µg/kg'}, 'Aflatoxin B1': {'analyte': 'Aflatoxin B1', 'passed': True, 'amount': 0, 'units': 'µg/kg'}}\n",
      "{'Aflatoxins': {'analyte': 'Aflatoxins', 'passed': True, 'amount': 0, 'units': 'µg/kg'}, 'Aflatoxin B2': {'analyte': 'Aflatoxin B2', 'passed': True, 'amount': 0, 'units': 'µg/kg'}, 'Aflatoxin G2': {'analyte': 'Aflatoxin G2', 'passed': True, 'amount': 0, 'units': 'µg/kg'}, 'Aflatoxin G1': {'analyte': 'Aflatoxin G1', 'passed': True, 'amount': 0, 'units': 'µg/kg'}, 'Ochratoxin A': {'analyte': 'Ochratoxin A', 'passed': True, 'amount': 0, 'units': 'µg/kg'}, 'Aflatoxin B1': {'analyte': 'Aflatoxin B1', 'passed': True, 'amount': 0, 'units': 'µg/kg'}}\n"
     ]
    }
   ],
   "source": [
    "for index, row in df.iterrows():\n",
    "    \n",
    "    # Check if type is list\n",
    "    is_list = type(row['coa_data']['mycotoxin_test']) is list\n",
    "    \n",
    "    # Look at length of results in list format\n",
    "    if is_list:\n",
    "        if (len(row['coa_data']['mycotoxin_test']) > 1):\n",
    "            print(len(row['coa_data']['mycotoxin_test']))\n",
    "            print(row['coa_data']['mycotoxin_test'][0]['results'])\n",
    "            print(row['coa_data']['mycotoxin_test'][1]['results'])            "
   ]
  },
  {
   "cell_type": "markdown",
   "metadata": {},
   "source": [
    "<h2>Above results show us we are not including one result set that with two entries where all the measured analyte amounts are zero</h2>"
   ]
  },
  {
   "cell_type": "code",
   "execution_count": 11,
   "metadata": {},
   "outputs": [],
   "source": [
    "df_mycotoxin_results.to_pickle('./pkls/cleaned_mycotoxin_results.pkl')"
   ]
  },
  {
   "cell_type": "code",
   "execution_count": 12,
   "metadata": {},
   "outputs": [
    {
     "data": {
      "text/html": [
       "<div>\n",
       "<style scoped>\n",
       "    .dataframe tbody tr th:only-of-type {\n",
       "        vertical-align: middle;\n",
       "    }\n",
       "\n",
       "    .dataframe tbody tr th {\n",
       "        vertical-align: top;\n",
       "    }\n",
       "\n",
       "    .dataframe thead th {\n",
       "        text-align: right;\n",
       "    }\n",
       "</style>\n",
       "<table border=\"1\" class=\"dataframe\">\n",
       "  <thead>\n",
       "    <tr style=\"text-align: right;\">\n",
       "      <th></th>\n",
       "      <th>Aflatoxin B1</th>\n",
       "      <th>Aflatoxin B2</th>\n",
       "      <th>Aflatoxin G1</th>\n",
       "      <th>Aflatoxin G2</th>\n",
       "      <th>Aflatoxins</th>\n",
       "      <th>Ochratoxin A</th>\n",
       "    </tr>\n",
       "  </thead>\n",
       "  <tbody>\n",
       "    <tr>\n",
       "      <th>count</th>\n",
       "      <td>6.0</td>\n",
       "      <td>6.0</td>\n",
       "      <td>6.000000</td>\n",
       "      <td>6.0</td>\n",
       "      <td>5.000000</td>\n",
       "      <td>6.0</td>\n",
       "    </tr>\n",
       "    <tr>\n",
       "      <th>mean</th>\n",
       "      <td>0.0</td>\n",
       "      <td>0.0</td>\n",
       "      <td>0.291667</td>\n",
       "      <td>0.0</td>\n",
       "      <td>0.350000</td>\n",
       "      <td>0.0</td>\n",
       "    </tr>\n",
       "    <tr>\n",
       "      <th>std</th>\n",
       "      <td>0.0</td>\n",
       "      <td>0.0</td>\n",
       "      <td>0.262558</td>\n",
       "      <td>0.0</td>\n",
       "      <td>0.246272</td>\n",
       "      <td>0.0</td>\n",
       "    </tr>\n",
       "    <tr>\n",
       "      <th>min</th>\n",
       "      <td>0.0</td>\n",
       "      <td>0.0</td>\n",
       "      <td>0.000000</td>\n",
       "      <td>0.0</td>\n",
       "      <td>0.000000</td>\n",
       "      <td>0.0</td>\n",
       "    </tr>\n",
       "    <tr>\n",
       "      <th>25%</th>\n",
       "      <td>0.0</td>\n",
       "      <td>0.0</td>\n",
       "      <td>0.075000</td>\n",
       "      <td>0.0</td>\n",
       "      <td>0.300000</td>\n",
       "      <td>0.0</td>\n",
       "    </tr>\n",
       "    <tr>\n",
       "      <th>50%</th>\n",
       "      <td>0.0</td>\n",
       "      <td>0.0</td>\n",
       "      <td>0.335000</td>\n",
       "      <td>0.0</td>\n",
       "      <td>0.370000</td>\n",
       "      <td>0.0</td>\n",
       "    </tr>\n",
       "    <tr>\n",
       "      <th>75%</th>\n",
       "      <td>0.0</td>\n",
       "      <td>0.0</td>\n",
       "      <td>0.385000</td>\n",
       "      <td>0.0</td>\n",
       "      <td>0.390000</td>\n",
       "      <td>0.0</td>\n",
       "    </tr>\n",
       "    <tr>\n",
       "      <th>max</th>\n",
       "      <td>0.0</td>\n",
       "      <td>0.0</td>\n",
       "      <td>0.690000</td>\n",
       "      <td>0.0</td>\n",
       "      <td>0.690000</td>\n",
       "      <td>0.0</td>\n",
       "    </tr>\n",
       "  </tbody>\n",
       "</table>\n",
       "</div>"
      ],
      "text/plain": [
       "       Aflatoxin B1  Aflatoxin B2  Aflatoxin G1  Aflatoxin G2  Aflatoxins  \\\n",
       "count           6.0           6.0      6.000000           6.0    5.000000   \n",
       "mean            0.0           0.0      0.291667           0.0    0.350000   \n",
       "std             0.0           0.0      0.262558           0.0    0.246272   \n",
       "min             0.0           0.0      0.000000           0.0    0.000000   \n",
       "25%             0.0           0.0      0.075000           0.0    0.300000   \n",
       "50%             0.0           0.0      0.335000           0.0    0.370000   \n",
       "75%             0.0           0.0      0.385000           0.0    0.390000   \n",
       "max             0.0           0.0      0.690000           0.0    0.690000   \n",
       "\n",
       "       Ochratoxin A  \n",
       "count           6.0  \n",
       "mean            0.0  \n",
       "std             0.0  \n",
       "min             0.0  \n",
       "25%             0.0  \n",
       "50%             0.0  \n",
       "75%             0.0  \n",
       "max             0.0  "
      ]
     },
     "execution_count": 12,
     "metadata": {},
     "output_type": "execute_result"
    }
   ],
   "source": [
    "df_mycotoxin_results.drop_duplicates().describe()"
   ]
  },
  {
   "cell_type": "code",
   "execution_count": 14,
   "metadata": {},
   "outputs": [],
   "source": [
    "df_mycotoxin_results = pd.read_pickle('./pkls/cleaned_mycotoxin_results.pkl')"
   ]
  },
  {
   "cell_type": "code",
   "execution_count": 15,
   "metadata": {},
   "outputs": [],
   "source": [
    "correlations = df_mycotoxin_results.corr()"
   ]
  },
  {
   "cell_type": "code",
   "execution_count": 16,
   "metadata": {},
   "outputs": [
    {
     "name": "stdout",
     "output_type": "stream",
     "text": [
      "              Aflatoxin B1  Aflatoxin B2  Aflatoxin G1  Aflatoxin G2  \\\n",
      "Aflatoxin B1           NaN           NaN           NaN           NaN   \n",
      "Aflatoxin B2           NaN           NaN           NaN           NaN   \n",
      "Aflatoxin G1           NaN           NaN           1.0           NaN   \n",
      "Aflatoxin G2           NaN           NaN           NaN           NaN   \n",
      "Aflatoxins             NaN           NaN           1.0           NaN   \n",
      "Ochratoxin A           NaN           NaN           NaN           NaN   \n",
      "\n",
      "              Aflatoxins  Ochratoxin A  \n",
      "Aflatoxin B1         NaN           NaN  \n",
      "Aflatoxin B2         NaN           NaN  \n",
      "Aflatoxin G1         1.0           NaN  \n",
      "Aflatoxin G2         NaN           NaN  \n",
      "Aflatoxins           1.0           NaN  \n",
      "Ochratoxin A         NaN           NaN  \n"
     ]
    }
   ],
   "source": [
    "print(correlations)"
   ]
  },
  {
   "cell_type": "code",
   "execution_count": 17,
   "metadata": {},
   "outputs": [
    {
     "data": {
      "image/png": "[encoded data removed]",
      "text/plain": [
       "<Figure size 432x504 with 2 Axes>"
      ]
     },
     "metadata": {
      "needs_background": "light"
     },
     "output_type": "display_data"
    }
   ],
   "source": [
    "mask = np.zeros_like(correlations, dtype=np.bool)\n",
    "mask[np.triu_indices_from(mask)] = True\n",
    "f, ax = plt.subplots(figsize=(6, 7))\n",
    "plt.title('Heat map of Pearson correlation metric in all mycotoxin test results')\n",
    "\n",
    "# Generate a custom diverging colormap\n",
    "cmap = sns.diverging_palette(220, 10, as_cmap=True)\n",
    "\n",
    "corr_heat = sns.heatmap(correlations * 100, annot=True, fmt='.0f', mask=mask, cmap=cmap, cbar_kws={\"shrink\": .5})"
   ]
  },
  {
   "cell_type": "code",
   "execution_count": null,
   "metadata": {},
   "outputs": [],
   "source": []
  }
 ],
 "metadata": {
  "kernelspec": {
   "display_name": "Python 3",
   "language": "python",
   "name": "python3"
  },
  "language_info": {
   "codemirror_mode": {
    "name": "ipython",
    "version": 3
   },
   "file_extension": ".py",
   "mimetype": "text/x-python",
   "name": "python",
   "nbconvert_exporter": "python",
   "pygments_lexer": "ipython3",
   "version": "3.5.5"
  }
 },
 "nbformat": 4,
 "nbformat_minor": 2
}
