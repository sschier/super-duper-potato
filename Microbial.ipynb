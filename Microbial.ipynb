{
 "cells": [
  {
   "cell_type": "code",
   "execution_count": 1,
   "metadata": {},
   "outputs": [],
   "source": [
    "import pandas as pd\n",
    "import psycopg2\n",
    "import sqlalchemy\n",
    "from matplotlib import pyplot as plt\n",
    "import numpy as np\n",
    "import pickle as pkl\n",
    "import seaborn as sns\n",
    "\n",
    "%matplotlib inline"
   ]
  },
  {
   "cell_type": "code",
   "execution_count": 2,
   "metadata": {},
   "outputs": [],
   "source": [
    "df_microbial = pd.read_pickle('./pkls/has_microbial.pkl')"
   ]
  },
  {
   "cell_type": "markdown",
   "metadata": {},
   "source": [
    "<h5>Clean and flatten data containing microbial test results</h5>"
   ]
  },
  {
   "cell_type": "code",
   "execution_count": 4,
   "metadata": {},
   "outputs": [
    {
     "name": "stderr",
     "output_type": "stream",
     "text": [
      "/anaconda3/lib/python3.5/site-packages/pandas/core/frame.py:6211: FutureWarning: Sorting because non-concatenation axis is not aligned. A future version\n",
      "of pandas will change to not sort by default.\n",
      "\n",
      "To accept the future behavior, pass 'sort=False'.\n",
      "\n",
      "To retain the current behavior and silence the warning, pass 'sort=True'.\n",
      "\n",
      "  sort=sort)\n"
     ]
    },
    {
     "name": "stdout",
     "output_type": "stream",
     "text": [
      "  Aspergillus flavus Aspergillus fumigatus Aspergillus niger  \\\n",
      "0                  0                     0                 0   \n",
      "1                  0                     0                 0   \n",
      "2                  0                     0                 0   \n",
      "3                  0                     0                 0   \n",
      "4                  0                     0                 0   \n",
      "\n",
      "  Aspergillus terreus Escherichia coli Salmonella bongori Salmonella enterica  \\\n",
      "0                   0                0                  0                   0   \n",
      "1                   0                0                  0                   0   \n",
      "2                   0                0                  0                   0   \n",
      "3                   0                0                  0                   0   \n",
      "4                   0                0                  0                   0   \n",
      "\n",
      "  Salmonella spp.   index  \n",
      "0               0  amount  \n",
      "1               0  amount  \n",
      "2               0  amount  \n",
      "3               0  amount  \n",
      "4               0  amount  \n"
     ]
    }
   ],
   "source": [
    "df_microbial_results = pd.DataFrame()\n",
    "not_included = 0\n",
    "for index, row in df_microbial.iterrows():\n",
    "    \n",
    "    #Check if entry a dict or list containing the one dict, because both formats will appear\n",
    "    is_dict = type(row['coa_data']['microbial_test']) is dict\n",
    "    #print(is_dict)\n",
    "    \n",
    "    #pull out test results for this test type\n",
    "    microbial_results = row['coa_data']['microbial_test']['results'] if is_dict else row['coa_data']['microbial_test'][0]['results']\n",
    "    if (type(microbial_results) is not dict):\n",
    "        not_included += 1\n",
    "        continue\n",
    "    #create new df from retrieved dictionary so that it can be merged with data from other rows,\n",
    "    #then keep only the row \"amount\"\n",
    "    temp_df = pd.DataFrame.from_dict(microbial_results)\n",
    "    temp_df = temp_df[temp_df.index == 'amount'].reset_index()\n",
    "    df_microbial_results = df_microbial_results.append(temp_df, ignore_index = True)\n",
    "\n",
    "\n",
    "print(df_microbial_results.head())"
   ]
  },
  {
   "cell_type": "code",
   "execution_count": 20,
   "metadata": {},
   "outputs": [
    {
     "name": "stdout",
     "output_type": "stream",
     "text": [
      "3\n"
     ]
    }
   ],
   "source": [
    "print(not_included)"
   ]
  },
  {
   "cell_type": "markdown",
   "metadata": {},
   "source": [
    "<h5>Let's sniff and clean the data</h5>"
   ]
  },
  {
   "cell_type": "code",
   "execution_count": 7,
   "metadata": {},
   "outputs": [
    {
     "data": {
      "text/html": [
       "<div>\n",
       "<style scoped>\n",
       "    .dataframe tbody tr th:only-of-type {\n",
       "        vertical-align: middle;\n",
       "    }\n",
       "\n",
       "    .dataframe tbody tr th {\n",
       "        vertical-align: top;\n",
       "    }\n",
       "\n",
       "    .dataframe thead th {\n",
       "        text-align: right;\n",
       "    }\n",
       "</style>\n",
       "<table border=\"1\" class=\"dataframe\">\n",
       "  <thead>\n",
       "    <tr style=\"text-align: right;\">\n",
       "      <th></th>\n",
       "      <th>Aspergillus flavus</th>\n",
       "      <th>Aspergillus fumigatus</th>\n",
       "      <th>Aspergillus niger</th>\n",
       "      <th>Aspergillus terreus</th>\n",
       "      <th>Escherichia coli</th>\n",
       "      <th>Salmonella bongori</th>\n",
       "      <th>Salmonella enterica</th>\n",
       "      <th>Salmonella spp.</th>\n",
       "      <th>index</th>\n",
       "    </tr>\n",
       "  </thead>\n",
       "  <tbody>\n",
       "    <tr>\n",
       "      <th>count</th>\n",
       "      <td>7066</td>\n",
       "      <td>7066</td>\n",
       "      <td>7066</td>\n",
       "      <td>7066</td>\n",
       "      <td>7624</td>\n",
       "      <td>7624</td>\n",
       "      <td>7624</td>\n",
       "      <td>7590</td>\n",
       "      <td>7624</td>\n",
       "    </tr>\n",
       "    <tr>\n",
       "      <th>unique</th>\n",
       "      <td>3</td>\n",
       "      <td>3</td>\n",
       "      <td>3</td>\n",
       "      <td>3</td>\n",
       "      <td>4</td>\n",
       "      <td>3</td>\n",
       "      <td>3</td>\n",
       "      <td>1</td>\n",
       "      <td>1</td>\n",
       "    </tr>\n",
       "    <tr>\n",
       "      <th>top</th>\n",
       "      <td>0</td>\n",
       "      <td>0</td>\n",
       "      <td>0</td>\n",
       "      <td>0</td>\n",
       "      <td>0</td>\n",
       "      <td>0</td>\n",
       "      <td>0</td>\n",
       "      <td>0</td>\n",
       "      <td>amount</td>\n",
       "    </tr>\n",
       "    <tr>\n",
       "      <th>freq</th>\n",
       "      <td>7011</td>\n",
       "      <td>7031</td>\n",
       "      <td>7046</td>\n",
       "      <td>7051</td>\n",
       "      <td>7620</td>\n",
       "      <td>7621</td>\n",
       "      <td>7622</td>\n",
       "      <td>7590</td>\n",
       "      <td>7624</td>\n",
       "    </tr>\n",
       "  </tbody>\n",
       "</table>\n",
       "</div>"
      ],
      "text/plain": [
       "        Aspergillus flavus  Aspergillus fumigatus  Aspergillus niger  \\\n",
       "count                 7066                   7066               7066   \n",
       "unique                   3                      3                  3   \n",
       "top                      0                      0                  0   \n",
       "freq                  7011                   7031               7046   \n",
       "\n",
       "        Aspergillus terreus  Escherichia coli  Salmonella bongori  \\\n",
       "count                  7066              7624                7624   \n",
       "unique                    3                 4                   3   \n",
       "top                       0                 0                   0   \n",
       "freq                   7051              7620                7621   \n",
       "\n",
       "        Salmonella enterica  Salmonella spp.   index  \n",
       "count                  7624             7590    7624  \n",
       "unique                    3                1       1  \n",
       "top                       0                0  amount  \n",
       "freq                   7622             7590    7624  "
      ]
     },
     "execution_count": 7,
     "metadata": {},
     "output_type": "execute_result"
    }
   ],
   "source": [
    "df_microbial_results.describe()"
   ]
  },
  {
   "cell_type": "code",
   "execution_count": 9,
   "metadata": {},
   "outputs": [
    {
     "name": "stdout",
     "output_type": "stream",
     "text": [
      "Aspergillus flavus [0 nan 'Detected' '0']\n",
      "Aspergillus fumigatus [0 nan 'Detected' '1']\n",
      "Aspergillus niger [0 nan 'Detected' '0']\n",
      "Aspergillus terreus [0 nan 'Detected' '0']\n",
      "Escherichia coli [0 '1' 'Detected' '0']\n",
      "Salmonella bongori [0 '1' '0']\n",
      "Salmonella enterica [0 '1' '0']\n",
      "Salmonella spp. [0 nan]\n",
      "index ['amount']\n"
     ]
    }
   ],
   "source": [
    "for column in df_microbial_results.columns:\n",
    "    print(column, df_microbial_results[column].unique())"
   ]
  },
  {
   "cell_type": "code",
   "execution_count": 12,
   "metadata": {},
   "outputs": [],
   "source": [
    "for column in df_microbial_results.columns:\n",
    "    df_microbial_results[column].replace(['Detected', '1'], 1, inplace=True)\n",
    "    df_microbial_results[column].replace('0', 0, inplace=True)"
   ]
  },
  {
   "cell_type": "code",
   "execution_count": 13,
   "metadata": {},
   "outputs": [
    {
     "name": "stdout",
     "output_type": "stream",
     "text": [
      "Aspergillus flavus [  0.  nan   1.]\n",
      "Aspergillus fumigatus [  0.  nan   1.]\n",
      "Aspergillus niger [  0.  nan   1.]\n",
      "Aspergillus terreus [  0.  nan   1.]\n",
      "Escherichia coli [0 1]\n",
      "Salmonella bongori [0 1]\n",
      "Salmonella enterica [0 1]\n",
      "Salmonella spp. [  0.  nan]\n",
      "index ['amount']\n"
     ]
    }
   ],
   "source": [
    "for column in df_microbial_results.columns:\n",
    "    print(column, df_microbial_results[column].unique())"
   ]
  },
  {
   "cell_type": "code",
   "execution_count": 14,
   "metadata": {},
   "outputs": [
    {
     "data": {
      "text/plain": [
       "Aspergillus flavus       float64\n",
       "Aspergillus fumigatus    float64\n",
       "Aspergillus niger        float64\n",
       "Aspergillus terreus      float64\n",
       "Escherichia coli           int64\n",
       "Salmonella bongori         int64\n",
       "Salmonella enterica        int64\n",
       "Salmonella spp.          float64\n",
       "index                     object\n",
       "dtype: object"
      ]
     },
     "execution_count": 14,
     "metadata": {},
     "output_type": "execute_result"
    }
   ],
   "source": [
    "df_microbial_results.dtypes"
   ]
  },
  {
   "cell_type": "code",
   "execution_count": 15,
   "metadata": {},
   "outputs": [],
   "source": [
    "df_microbial_results = df_microbial_results.drop('index', axis=1)"
   ]
  },
  {
   "cell_type": "code",
   "execution_count": 16,
   "metadata": {},
   "outputs": [
    {
     "data": {
      "text/html": [
       "<div>\n",
       "<style scoped>\n",
       "    .dataframe tbody tr th:only-of-type {\n",
       "        vertical-align: middle;\n",
       "    }\n",
       "\n",
       "    .dataframe tbody tr th {\n",
       "        vertical-align: top;\n",
       "    }\n",
       "\n",
       "    .dataframe thead th {\n",
       "        text-align: right;\n",
       "    }\n",
       "</style>\n",
       "<table border=\"1\" class=\"dataframe\">\n",
       "  <thead>\n",
       "    <tr style=\"text-align: right;\">\n",
       "      <th></th>\n",
       "      <th>Aspergillus flavus</th>\n",
       "      <th>Aspergillus fumigatus</th>\n",
       "      <th>Aspergillus niger</th>\n",
       "      <th>Aspergillus terreus</th>\n",
       "      <th>Escherichia coli</th>\n",
       "      <th>Salmonella bongori</th>\n",
       "      <th>Salmonella enterica</th>\n",
       "      <th>Salmonella spp.</th>\n",
       "    </tr>\n",
       "  </thead>\n",
       "  <tbody>\n",
       "    <tr>\n",
       "      <th>count</th>\n",
       "      <td>7066.000000</td>\n",
       "      <td>7066.000000</td>\n",
       "      <td>7066.000000</td>\n",
       "      <td>7066.000000</td>\n",
       "      <td>7624.000000</td>\n",
       "      <td>7624.000000</td>\n",
       "      <td>7624.000000</td>\n",
       "      <td>7590.0</td>\n",
       "    </tr>\n",
       "    <tr>\n",
       "      <th>mean</th>\n",
       "      <td>0.007642</td>\n",
       "      <td>0.004953</td>\n",
       "      <td>0.002689</td>\n",
       "      <td>0.001981</td>\n",
       "      <td>0.000393</td>\n",
       "      <td>0.000262</td>\n",
       "      <td>0.000131</td>\n",
       "      <td>0.0</td>\n",
       "    </tr>\n",
       "    <tr>\n",
       "      <th>std</th>\n",
       "      <td>0.087091</td>\n",
       "      <td>0.070210</td>\n",
       "      <td>0.051789</td>\n",
       "      <td>0.044471</td>\n",
       "      <td>0.019834</td>\n",
       "      <td>0.016196</td>\n",
       "      <td>0.011453</td>\n",
       "      <td>0.0</td>\n",
       "    </tr>\n",
       "    <tr>\n",
       "      <th>min</th>\n",
       "      <td>0.000000</td>\n",
       "      <td>0.000000</td>\n",
       "      <td>0.000000</td>\n",
       "      <td>0.000000</td>\n",
       "      <td>0.000000</td>\n",
       "      <td>0.000000</td>\n",
       "      <td>0.000000</td>\n",
       "      <td>0.0</td>\n",
       "    </tr>\n",
       "    <tr>\n",
       "      <th>25%</th>\n",
       "      <td>0.000000</td>\n",
       "      <td>0.000000</td>\n",
       "      <td>0.000000</td>\n",
       "      <td>0.000000</td>\n",
       "      <td>0.000000</td>\n",
       "      <td>0.000000</td>\n",
       "      <td>0.000000</td>\n",
       "      <td>0.0</td>\n",
       "    </tr>\n",
       "    <tr>\n",
       "      <th>50%</th>\n",
       "      <td>0.000000</td>\n",
       "      <td>0.000000</td>\n",
       "      <td>0.000000</td>\n",
       "      <td>0.000000</td>\n",
       "      <td>0.000000</td>\n",
       "      <td>0.000000</td>\n",
       "      <td>0.000000</td>\n",
       "      <td>0.0</td>\n",
       "    </tr>\n",
       "    <tr>\n",
       "      <th>75%</th>\n",
       "      <td>0.000000</td>\n",
       "      <td>0.000000</td>\n",
       "      <td>0.000000</td>\n",
       "      <td>0.000000</td>\n",
       "      <td>0.000000</td>\n",
       "      <td>0.000000</td>\n",
       "      <td>0.000000</td>\n",
       "      <td>0.0</td>\n",
       "    </tr>\n",
       "    <tr>\n",
       "      <th>max</th>\n",
       "      <td>1.000000</td>\n",
       "      <td>1.000000</td>\n",
       "      <td>1.000000</td>\n",
       "      <td>1.000000</td>\n",
       "      <td>1.000000</td>\n",
       "      <td>1.000000</td>\n",
       "      <td>1.000000</td>\n",
       "      <td>0.0</td>\n",
       "    </tr>\n",
       "  </tbody>\n",
       "</table>\n",
       "</div>"
      ],
      "text/plain": [
       "       Aspergillus flavus  Aspergillus fumigatus  Aspergillus niger  \\\n",
       "count         7066.000000            7066.000000        7066.000000   \n",
       "mean             0.007642               0.004953           0.002689   \n",
       "std              0.087091               0.070210           0.051789   \n",
       "min              0.000000               0.000000           0.000000   \n",
       "25%              0.000000               0.000000           0.000000   \n",
       "50%              0.000000               0.000000           0.000000   \n",
       "75%              0.000000               0.000000           0.000000   \n",
       "max              1.000000               1.000000           1.000000   \n",
       "\n",
       "       Aspergillus terreus  Escherichia coli  Salmonella bongori  \\\n",
       "count          7066.000000       7624.000000         7624.000000   \n",
       "mean              0.001981          0.000393            0.000262   \n",
       "std               0.044471          0.019834            0.016196   \n",
       "min               0.000000          0.000000            0.000000   \n",
       "25%               0.000000          0.000000            0.000000   \n",
       "50%               0.000000          0.000000            0.000000   \n",
       "75%               0.000000          0.000000            0.000000   \n",
       "max               1.000000          1.000000            1.000000   \n",
       "\n",
       "       Salmonella enterica  Salmonella spp.  \n",
       "count          7624.000000           7590.0  \n",
       "mean              0.000131              0.0  \n",
       "std               0.011453              0.0  \n",
       "min               0.000000              0.0  \n",
       "25%               0.000000              0.0  \n",
       "50%               0.000000              0.0  \n",
       "75%               0.000000              0.0  \n",
       "max               1.000000              0.0  "
      ]
     },
     "execution_count": 16,
     "metadata": {},
     "output_type": "execute_result"
    }
   ],
   "source": [
    "df_microbial_results.describe()"
   ]
  },
  {
   "cell_type": "code",
   "execution_count": 17,
   "metadata": {},
   "outputs": [],
   "source": [
    "df_microbial_results.to_pickle('./pkls/cleaned_microbial_results.pkl')"
   ]
  },
  {
   "cell_type": "code",
   "execution_count": 19,
   "metadata": {},
   "outputs": [
    {
     "data": {
      "text/html": [
       "<div>\n",
       "<style scoped>\n",
       "    .dataframe tbody tr th:only-of-type {\n",
       "        vertical-align: middle;\n",
       "    }\n",
       "\n",
       "    .dataframe tbody tr th {\n",
       "        vertical-align: top;\n",
       "    }\n",
       "\n",
       "    .dataframe thead th {\n",
       "        text-align: right;\n",
       "    }\n",
       "</style>\n",
       "<table border=\"1\" class=\"dataframe\">\n",
       "  <thead>\n",
       "    <tr style=\"text-align: right;\">\n",
       "      <th></th>\n",
       "      <th>Aspergillus flavus</th>\n",
       "      <th>Aspergillus fumigatus</th>\n",
       "      <th>Aspergillus niger</th>\n",
       "      <th>Aspergillus terreus</th>\n",
       "      <th>Escherichia coli</th>\n",
       "      <th>Salmonella bongori</th>\n",
       "      <th>Salmonella enterica</th>\n",
       "      <th>Salmonella spp.</th>\n",
       "    </tr>\n",
       "  </thead>\n",
       "  <tbody>\n",
       "    <tr>\n",
       "      <th>count</th>\n",
       "      <td>16.000000</td>\n",
       "      <td>16.000</td>\n",
       "      <td>16.000000</td>\n",
       "      <td>16.000000</td>\n",
       "      <td>18.000000</td>\n",
       "      <td>18.000000</td>\n",
       "      <td>18.000000</td>\n",
       "      <td>13.0</td>\n",
       "    </tr>\n",
       "    <tr>\n",
       "      <th>mean</th>\n",
       "      <td>0.250000</td>\n",
       "      <td>0.375</td>\n",
       "      <td>0.312500</td>\n",
       "      <td>0.250000</td>\n",
       "      <td>0.166667</td>\n",
       "      <td>0.111111</td>\n",
       "      <td>0.055556</td>\n",
       "      <td>0.0</td>\n",
       "    </tr>\n",
       "    <tr>\n",
       "      <th>std</th>\n",
       "      <td>0.447214</td>\n",
       "      <td>0.500</td>\n",
       "      <td>0.478714</td>\n",
       "      <td>0.447214</td>\n",
       "      <td>0.383482</td>\n",
       "      <td>0.323381</td>\n",
       "      <td>0.235702</td>\n",
       "      <td>0.0</td>\n",
       "    </tr>\n",
       "    <tr>\n",
       "      <th>min</th>\n",
       "      <td>0.000000</td>\n",
       "      <td>0.000</td>\n",
       "      <td>0.000000</td>\n",
       "      <td>0.000000</td>\n",
       "      <td>0.000000</td>\n",
       "      <td>0.000000</td>\n",
       "      <td>0.000000</td>\n",
       "      <td>0.0</td>\n",
       "    </tr>\n",
       "    <tr>\n",
       "      <th>25%</th>\n",
       "      <td>0.000000</td>\n",
       "      <td>0.000</td>\n",
       "      <td>0.000000</td>\n",
       "      <td>0.000000</td>\n",
       "      <td>0.000000</td>\n",
       "      <td>0.000000</td>\n",
       "      <td>0.000000</td>\n",
       "      <td>0.0</td>\n",
       "    </tr>\n",
       "    <tr>\n",
       "      <th>50%</th>\n",
       "      <td>0.000000</td>\n",
       "      <td>0.000</td>\n",
       "      <td>0.000000</td>\n",
       "      <td>0.000000</td>\n",
       "      <td>0.000000</td>\n",
       "      <td>0.000000</td>\n",
       "      <td>0.000000</td>\n",
       "      <td>0.0</td>\n",
       "    </tr>\n",
       "    <tr>\n",
       "      <th>75%</th>\n",
       "      <td>0.250000</td>\n",
       "      <td>1.000</td>\n",
       "      <td>1.000000</td>\n",
       "      <td>0.250000</td>\n",
       "      <td>0.000000</td>\n",
       "      <td>0.000000</td>\n",
       "      <td>0.000000</td>\n",
       "      <td>0.0</td>\n",
       "    </tr>\n",
       "    <tr>\n",
       "      <th>max</th>\n",
       "      <td>1.000000</td>\n",
       "      <td>1.000</td>\n",
       "      <td>1.000000</td>\n",
       "      <td>1.000000</td>\n",
       "      <td>1.000000</td>\n",
       "      <td>1.000000</td>\n",
       "      <td>1.000000</td>\n",
       "      <td>0.0</td>\n",
       "    </tr>\n",
       "  </tbody>\n",
       "</table>\n",
       "</div>"
      ],
      "text/plain": [
       "       Aspergillus flavus  Aspergillus fumigatus  Aspergillus niger  \\\n",
       "count           16.000000                 16.000          16.000000   \n",
       "mean             0.250000                  0.375           0.312500   \n",
       "std              0.447214                  0.500           0.478714   \n",
       "min              0.000000                  0.000           0.000000   \n",
       "25%              0.000000                  0.000           0.000000   \n",
       "50%              0.000000                  0.000           0.000000   \n",
       "75%              0.250000                  1.000           1.000000   \n",
       "max              1.000000                  1.000           1.000000   \n",
       "\n",
       "       Aspergillus terreus  Escherichia coli  Salmonella bongori  \\\n",
       "count            16.000000         18.000000           18.000000   \n",
       "mean              0.250000          0.166667            0.111111   \n",
       "std               0.447214          0.383482            0.323381   \n",
       "min               0.000000          0.000000            0.000000   \n",
       "25%               0.000000          0.000000            0.000000   \n",
       "50%               0.000000          0.000000            0.000000   \n",
       "75%               0.250000          0.000000            0.000000   \n",
       "max               1.000000          1.000000            1.000000   \n",
       "\n",
       "       Salmonella enterica  Salmonella spp.  \n",
       "count            18.000000             13.0  \n",
       "mean              0.055556              0.0  \n",
       "std               0.235702              0.0  \n",
       "min               0.000000              0.0  \n",
       "25%               0.000000              0.0  \n",
       "50%               0.000000              0.0  \n",
       "75%               0.000000              0.0  \n",
       "max               1.000000              0.0  "
      ]
     },
     "execution_count": 19,
     "metadata": {},
     "output_type": "execute_result"
    }
   ],
   "source": [
    "df_microbial_results.drop_duplicates().describe()"
   ]
  },
  {
   "cell_type": "code",
   "execution_count": 21,
   "metadata": {},
   "outputs": [],
   "source": [
    "correlations = df_microbial_results.corr()"
   ]
  },
  {
   "cell_type": "code",
   "execution_count": 22,
   "metadata": {},
   "outputs": [
    {
     "name": "stdout",
     "output_type": "stream",
     "text": [
      "                       Aspergillus flavus  Aspergillus fumigatus  \\\n",
      "Aspergillus flavus               1.000000               0.063252   \n",
      "Aspergillus fumigatus            0.063252               1.000000   \n",
      "Aspergillus niger                0.340642               0.190972   \n",
      "Aspergillus terreus              0.069181               0.178187   \n",
      "Escherichia coli                -0.001809              -0.001454   \n",
      "Salmonella bongori              -0.001477              -0.001187   \n",
      "Salmonella enterica             -0.001044              -0.000839   \n",
      "Salmonella spp.                       NaN                    NaN   \n",
      "\n",
      "                       Aspergillus niger  Aspergillus terreus  \\\n",
      "Aspergillus flavus              0.340642             0.069181   \n",
      "Aspergillus fumigatus           0.190972             0.178187   \n",
      "Aspergillus niger               1.000000             0.243516   \n",
      "Aspergillus terreus             0.243516             1.000000   \n",
      "Escherichia coli               -0.001070            -0.000918   \n",
      "Salmonella bongori             -0.000874            -0.000750   \n",
      "Salmonella enterica            -0.000618            -0.000530   \n",
      "Salmonella spp.                      NaN                  NaN   \n",
      "\n",
      "                       Escherichia coli  Salmonella bongori  \\\n",
      "Aspergillus flavus            -0.001809           -0.001477   \n",
      "Aspergillus fumigatus         -0.001454           -0.001187   \n",
      "Aspergillus niger             -0.001070           -0.000874   \n",
      "Aspergillus terreus           -0.000918           -0.000750   \n",
      "Escherichia coli               1.000000            0.816443   \n",
      "Salmonella bongori             0.816443            1.000000   \n",
      "Salmonella enterica            0.577275            0.707060   \n",
      "Salmonella spp.                     NaN                 NaN   \n",
      "\n",
      "                       Salmonella enterica  Salmonella spp.  \n",
      "Aspergillus flavus               -0.001044              NaN  \n",
      "Aspergillus fumigatus            -0.000839              NaN  \n",
      "Aspergillus niger                -0.000618              NaN  \n",
      "Aspergillus terreus              -0.000530              NaN  \n",
      "Escherichia coli                  0.577275              NaN  \n",
      "Salmonella bongori                0.707060              NaN  \n",
      "Salmonella enterica               1.000000              NaN  \n",
      "Salmonella spp.                        NaN              NaN  \n"
     ]
    }
   ],
   "source": [
    "print(correlations)"
   ]
  },
  {
   "cell_type": "code",
   "execution_count": 23,
   "metadata": {},
   "outputs": [
    {
     "data": {
      "image/png": "[encoded data removed]",
      "text/plain": [
       "<Figure size 432x504 with 2 Axes>"
      ]
     },
     "metadata": {
      "needs_background": "light"
     },
     "output_type": "display_data"
    }
   ],
   "source": [
    "mask = np.zeros_like(correlations, dtype=np.bool)\n",
    "mask[np.triu_indices_from(mask)] = True\n",
    "f, ax = plt.subplots(figsize=(6, 7))\n",
    "plt.title('Heat map of Pearson correlation metric in all microbial test results')\n",
    "\n",
    "# Generate a custom diverging colormap\n",
    "cmap = sns.diverging_palette(220, 10, as_cmap=True)\n",
    "\n",
    "corr_heat = sns.heatmap(correlations * 100, annot=True, fmt='.0f', mask=mask, cmap=cmap, cbar_kws={\"shrink\": .5})\n"
   ]
  },
  {
   "cell_type": "markdown",
   "metadata": {},
   "source": [
    "<h4>Now looking at correlations after dropping duplicates</h4>\n",
    "<p>After dropping duplicates the number of data points decreases from >7000 to < 20 </p>"
   ]
  },
  {
   "cell_type": "code",
   "execution_count": 26,
   "metadata": {},
   "outputs": [
    {
     "data": {
      "image/png": "[encoded data removed]",
      "text/plain": [
       "<Figure size 432x504 with 2 Axes>"
      ]
     },
     "metadata": {
      "needs_background": "light"
     },
     "output_type": "display_data"
    }
   ],
   "source": [
    "newCorrelations = df_microbial_results.drop_duplicates().corr()\n",
    "\n",
    "mask = np.zeros_like(correlations, dtype=np.bool)\n",
    "mask[np.triu_indices_from(mask)] = True\n",
    "f, ax = plt.subplots(figsize=(6, 7))\n",
    "plt.title('Heat map of Pearson correlation metric in all microbial test results after dropping duplicate entries')\n",
    "\n",
    "# Generate a custom diverging colormap\n",
    "cmap = sns.diverging_palette(220, 10, as_cmap=True)\n",
    "\n",
    "corr_heat = sns.heatmap(newCorrelations * 100, annot=True, fmt='.0f', mask=mask, cmap=cmap, cbar_kws={\"shrink\": .5})"
   ]
  },
  {
   "cell_type": "code",
   "execution_count": 24,
   "metadata": {},
   "outputs": [
    {
     "name": "stderr",
     "output_type": "stream",
     "text": [
      "/anaconda3/lib/python3.5/site-packages/statsmodels/nonparametric/kde.py:448: RuntimeWarning: invalid value encountered in greater\n",
      "  X = X[np.logical_and(X > clip[0], X < clip[1])] # won't work for two columns.\n",
      "/anaconda3/lib/python3.5/site-packages/statsmodels/nonparametric/kde.py:448: RuntimeWarning: invalid value encountered in less\n",
      "  X = X[np.logical_and(X > clip[0], X < clip[1])] # won't work for two columns.\n",
      "/anaconda3/lib/python3.5/site-packages/statsmodels/nonparametric/kde.py:488: RuntimeWarning: invalid value encountered in true_divide\n",
      "  binned = fast_linbin(X, a, b, gridsize) / (delta * nobs)\n",
      "/anaconda3/lib/python3.5/site-packages/statsmodels/nonparametric/kdetools.py:34: RuntimeWarning: invalid value encountered in double_scalars\n",
      "  FAC1 = 2*(np.pi*bw/RANGE)**2\n"
     ]
    },
    {
     "data": {
      "image/png": "[encoded data removed]",
      "text/plain": [
       "<Figure size 432x288 with 1 Axes>"
      ]
     },
     "metadata": {
      "needs_background": "light"
     },
     "output_type": "display_data"
    }
   ],
   "source": [
    "for column in df_microbial_results.columns:\n",
    "    sns.distplot(df_microbial_results.drop_duplicates()[column], hist=False, rug=True);"
   ]
  },
  {
   "cell_type": "code",
   "execution_count": 31,
   "metadata": {},
   "outputs": [
    {
     "name": "stderr",
     "output_type": "stream",
     "text": [
      "/anaconda3/lib/python3.5/site-packages/statsmodels/nonparametric/kde.py:448: RuntimeWarning: invalid value encountered in greater\n",
      "  X = X[np.logical_and(X > clip[0], X < clip[1])] # won't work for two columns.\n",
      "/anaconda3/lib/python3.5/site-packages/statsmodels/nonparametric/kde.py:448: RuntimeWarning: invalid value encountered in less\n",
      "  X = X[np.logical_and(X > clip[0], X < clip[1])] # won't work for two columns.\n"
     ]
    },
    {
     "data": {
      "image/png": "[encoded data removed]",
      "text/plain": [
       "<Figure size 432x288 with 1 Axes>"
      ]
     },
     "metadata": {
      "needs_background": "light"
     },
     "output_type": "display_data"
    }
   ],
   "source": [
    "sns.distplot(df_microbial_results.drop_duplicates()['Aspergillus terreus'], hist=False, rug=True);\n",
    "sns.distplot(df_microbial_results.drop_duplicates()['Aspergillus fumigatus'], hist=False, rug=True);"
   ]
  },
  {
   "cell_type": "code",
   "execution_count": 29,
   "metadata": {},
   "outputs": [
    {
     "data": {
      "text/plain": [
       "Text(0.5,0.98,'Linear regression plot of Escherichia coli vs Salmonella bongori')"
      ]
     },
     "execution_count": 29,
     "metadata": {},
     "output_type": "execute_result"
    },
    {
     "data": {
      "image/png": "[encoded data removed]",
      "text/plain": [
       "<Figure size 432x432 with 3 Axes>"
      ]
     },
     "metadata": {
      "needs_background": "light"
     },
     "output_type": "display_data"
    }
   ],
   "source": [
    "fig = sns.jointplot(\"Escherichia coli\", \"Salmonella bongori\", data=df_microbial_results.drop_duplicates(), kind=\"reg\",)\n",
    "                #xlim=(0, 0.1), ylim=(0, 0.5))\n",
    "fig_size = [7,6]\n",
    "plt.xlabel('Escherichia coli')\n",
    "plt.ylabel('Salmonella bongori')\n",
    "plt.suptitle('Linear regression plot of Escherichia coli vs Salmonella bongori')"
   ]
  },
  {
   "cell_type": "code",
   "execution_count": null,
   "metadata": {},
   "outputs": [],
   "source": []
  }
 ],
 "metadata": {
  "kernelspec": {
   "display_name": "Python 3",
   "language": "python",
   "name": "python3"
  },
  "language_info": {
   "codemirror_mode": {
    "name": "ipython",
    "version": 3
   },
   "file_extension": ".py",
   "mimetype": "text/x-python",
   "name": "python",
   "nbconvert_exporter": "python",
   "pygments_lexer": "ipython3",
   "version": "3.5.5"
  }
 },
 "nbformat": 4,
 "nbformat_minor": 2
}
