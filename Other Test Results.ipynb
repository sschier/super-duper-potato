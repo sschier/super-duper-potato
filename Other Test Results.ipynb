{
 "cells": [
  {
   "cell_type": "code",
   "execution_count": 1,
   "metadata": {},
   "outputs": [],
   "source": [
    "import pandas as pd\n",
    "import psycopg2\n",
    "import sqlalchemy\n",
    "from matplotlib import pyplot as plt\n",
    "import numpy as np\n",
    "import pickle as pkl\n",
    "import seaborn as sns\n",
    "import copy\n",
    "\n",
    "%matplotlib inline"
   ]
  },
  {
   "cell_type": "code",
   "execution_count": 2,
   "metadata": {},
   "outputs": [],
   "source": [
    "df_for_mat = pd.read_pickle('./pkls/has_foreign_material.pkl')\n",
    "df_homo = pd.read_pickle('./pkls/has_homogeneity.pkl')\n",
    "df_moist = pd.read_pickle('./pkls/has_moisture.pkl')\n",
    "df_water_act = pd.read_pickle('./pkls/has_water_activity.pkl')"
   ]
  },
  {
   "cell_type": "code",
   "execution_count": 7,
   "metadata": {},
   "outputs": [
    {
     "name": "stdout",
     "output_type": "stream",
     "text": [
      "foreign material (6636, 14)\n",
      "homogeneity (18, 14)\n",
      "moisture (4862, 14)\n",
      "water_activity (3053, 14)\n"
     ]
    }
   ],
   "source": [
    "print('foreign material', df_for_mat.shape)\n",
    "print('homogeneity', df_homo.shape)\n",
    "print('moisture', df_moist.shape)\n",
    "print('water_activity', df_water_act.shape)"
   ]
  },
  {
   "cell_type": "code",
   "execution_count": 96,
   "metadata": {},
   "outputs": [],
   "source": [
    "def print_sample_of_original(df, test_name):\n",
    "    sample = df.iloc[:1][\"coa_data\"][0][test_name][0]['results']\n",
    "    print(pd.DataFrame.from_dict(sample, orient='index'))"
   ]
  },
  {
   "cell_type": "code",
   "execution_count": 26,
   "metadata": {},
   "outputs": [],
   "source": [
    "def replace_all_columns(df, oldVals, newVal):\n",
    "    for column in df.columns:\n",
    "        df[column].replace(oldVals, newVal, inplace=True)"
   ]
  },
  {
   "cell_type": "code",
   "execution_count": 24,
   "metadata": {},
   "outputs": [],
   "source": [
    "def drop_index(df):\n",
    "    df = df.drop('index', axis=1)\n",
    "    return df"
   ]
  },
  {
   "cell_type": "code",
   "execution_count": 22,
   "metadata": {},
   "outputs": [],
   "source": [
    "def get_unique(df):\n",
    "    for column in df:\n",
    "        print(column, df[column].unique())"
   ]
  },
  {
   "cell_type": "code",
   "execution_count": 10,
   "metadata": {},
   "outputs": [],
   "source": [
    "def check_data(df, test_name):\n",
    "    \n",
    "    for index, row in df.iterrows():\n",
    "\n",
    "        # Check if type is list\n",
    "        is_list = type(row['coa_data'][test_name]) is list\n",
    "\n",
    "        # Look at length of results in list format\n",
    "        if is_list:\n",
    "            if (len(row['coa_data'][test_name]) > 1):\n",
    "                print(len(row['coa_data'][test_name]))\n",
    "                print(row['coa_data'][test_name][0]['results'])\n",
    "                print(row['coa_data'][test_name][1]['results'])            "
   ]
  },
  {
   "cell_type": "code",
   "execution_count": 8,
   "metadata": {},
   "outputs": [],
   "source": [
    "def extract_flat_results(df, test_name):\n",
    "    df_results = pd.DataFrame()\n",
    "    not_included = 0\n",
    "    for index, row in df.iterrows():\n",
    "        \n",
    "        # Check if type is dictionary, both formats (lists and dicts) will appear\n",
    "        is_dict = type(row['coa_data'][test_name]) is dict\n",
    "        \n",
    "        # Pull out test results\n",
    "        results = row['coa_data'][test_name]['results'] if is_dict else row['coa_data'][test_name][0]['results']\n",
    "        \n",
    "        if (type(results) is not dict):\n",
    "            not_included += 1\n",
    "            continue\n",
    "            \n",
    "        # Create temporary df from each row of results to merge with other rows of data\n",
    "        # Only keep entry 'amount'    \n",
    "        temp_df = pd.DataFrame.from_dict(results)\n",
    "        temp_df = temp_df[temp_df.index == 'amount'].reset_index()\n",
    "        df_results = df_results.append(temp_df, ignore_index=True)\n",
    "    \n",
    "    print('not_included', not_included)\n",
    "    print(df_results.shape)\n",
    "    print(df_results.head()) \n",
    "    \n",
    "    return df_results\n",
    "        "
   ]
  },
  {
   "cell_type": "code",
   "execution_count": 9,
   "metadata": {},
   "outputs": [
    {
     "name": "stdout",
     "output_type": "stream",
     "text": [
      "not_included 2\n",
      "(6634, 10)\n",
      "    index Cinders Dirt Imbedded Foreign Material Insect Fragments  \\\n",
      "0  amount       0    0                         0                0   \n",
      "1  amount       0    0                         0                0   \n",
      "2  amount       0    0                         0                0   \n",
      "3  amount       0    0                         0                0   \n",
      "4  amount       0    0                         0                0   \n",
      "\n",
      "  Mammal Excrement Mold Rodent Hair Sand Soil  \n",
      "0                0    0           0    0    0  \n",
      "1                0    0           0    0    0  \n",
      "2                0    0           0    0    0  \n",
      "3                0    0           0    0    0  \n",
      "4                0    0           0    0    0  \n"
     ]
    }
   ],
   "source": [
    "df_foreign_material_results = extract_flat_results(df_for_mat, 'foreign_material_test')"
   ]
  },
  {
   "cell_type": "code",
   "execution_count": 11,
   "metadata": {},
   "outputs": [],
   "source": [
    "check_data(df_for_mat, 'foreign_material_test')"
   ]
  },
  {
   "cell_type": "code",
   "execution_count": 23,
   "metadata": {},
   "outputs": [
    {
     "name": "stdout",
     "output_type": "stream",
     "text": [
      "index ['amount']\n",
      "Cinders [0 '5']\n",
      "Dirt [0 '5']\n",
      "Imbedded Foreign Material [0 '5']\n",
      "Insect Fragments [0 7 1 10 '5']\n",
      "Mammal Excrement [0 '5']\n",
      "Mold [0 26 '5']\n",
      "Rodent Hair [0 '5']\n",
      "Sand [0 '5']\n",
      "Soil [0 '5']\n"
     ]
    }
   ],
   "source": [
    "get_unique(df_foreign_material_results)"
   ]
  },
  {
   "cell_type": "code",
   "execution_count": 25,
   "metadata": {},
   "outputs": [
    {
     "data": {
      "text/html": [
       "<div>\n",
       "<style scoped>\n",
       "    .dataframe tbody tr th:only-of-type {\n",
       "        vertical-align: middle;\n",
       "    }\n",
       "\n",
       "    .dataframe tbody tr th {\n",
       "        vertical-align: top;\n",
       "    }\n",
       "\n",
       "    .dataframe thead th {\n",
       "        text-align: right;\n",
       "    }\n",
       "</style>\n",
       "<table border=\"1\" class=\"dataframe\">\n",
       "  <thead>\n",
       "    <tr style=\"text-align: right;\">\n",
       "      <th></th>\n",
       "      <th>Cinders</th>\n",
       "      <th>Dirt</th>\n",
       "      <th>Imbedded Foreign Material</th>\n",
       "      <th>Insect Fragments</th>\n",
       "      <th>Mammal Excrement</th>\n",
       "      <th>Mold</th>\n",
       "      <th>Rodent Hair</th>\n",
       "      <th>Sand</th>\n",
       "      <th>Soil</th>\n",
       "    </tr>\n",
       "  </thead>\n",
       "  <tbody>\n",
       "    <tr>\n",
       "      <th>count</th>\n",
       "      <td>6634</td>\n",
       "      <td>6634</td>\n",
       "      <td>6634</td>\n",
       "      <td>6634</td>\n",
       "      <td>6634</td>\n",
       "      <td>6634</td>\n",
       "      <td>6634</td>\n",
       "      <td>6634</td>\n",
       "      <td>6634</td>\n",
       "    </tr>\n",
       "    <tr>\n",
       "      <th>unique</th>\n",
       "      <td>2</td>\n",
       "      <td>2</td>\n",
       "      <td>2</td>\n",
       "      <td>5</td>\n",
       "      <td>2</td>\n",
       "      <td>3</td>\n",
       "      <td>2</td>\n",
       "      <td>2</td>\n",
       "      <td>2</td>\n",
       "    </tr>\n",
       "    <tr>\n",
       "      <th>top</th>\n",
       "      <td>0</td>\n",
       "      <td>0</td>\n",
       "      <td>0</td>\n",
       "      <td>0</td>\n",
       "      <td>0</td>\n",
       "      <td>0</td>\n",
       "      <td>0</td>\n",
       "      <td>0</td>\n",
       "      <td>0</td>\n",
       "    </tr>\n",
       "    <tr>\n",
       "      <th>freq</th>\n",
       "      <td>6633</td>\n",
       "      <td>6633</td>\n",
       "      <td>6633</td>\n",
       "      <td>6630</td>\n",
       "      <td>6633</td>\n",
       "      <td>6631</td>\n",
       "      <td>6633</td>\n",
       "      <td>6633</td>\n",
       "      <td>6633</td>\n",
       "    </tr>\n",
       "  </tbody>\n",
       "</table>\n",
       "</div>"
      ],
      "text/plain": [
       "        Cinders  Dirt  Imbedded Foreign Material  Insect Fragments  \\\n",
       "count      6634  6634                       6634              6634   \n",
       "unique        2     2                          2                 5   \n",
       "top           0     0                          0                 0   \n",
       "freq       6633  6633                       6633              6630   \n",
       "\n",
       "        Mammal Excrement  Mold  Rodent Hair  Sand  Soil  \n",
       "count               6634  6634         6634  6634  6634  \n",
       "unique                 2     3            2     2     2  \n",
       "top                    0     0            0     0     0  \n",
       "freq                6633  6631         6633  6633  6633  "
      ]
     },
     "execution_count": 25,
     "metadata": {},
     "output_type": "execute_result"
    }
   ],
   "source": [
    "df_foreign_material_results = drop_index(df_foreign_material_results)\n",
    "df_foreign_material_results.describe()"
   ]
  },
  {
   "cell_type": "code",
   "execution_count": 27,
   "metadata": {},
   "outputs": [],
   "source": [
    "replace_all_columns(df_foreign_material_results, ['5'], 5)"
   ]
  },
  {
   "cell_type": "code",
   "execution_count": 31,
   "metadata": {},
   "outputs": [
    {
     "name": "stdout",
     "output_type": "stream",
     "text": [
      "Cinders                      int64\n",
      "Dirt                         int64\n",
      "Imbedded Foreign Material    int64\n",
      "Insect Fragments             int64\n",
      "Mammal Excrement             int64\n",
      "Mold                         int64\n",
      "Rodent Hair                  int64\n",
      "Sand                         int64\n",
      "Soil                         int64\n",
      "dtype: object\n",
      "           Cinders         Dirt  Imbedded Foreign Material  Insect Fragments  \\\n",
      "count  6634.000000  6634.000000                6634.000000       6634.000000   \n",
      "mean      0.000754     0.000754                   0.000754          0.003467   \n",
      "std       0.061388     0.061388                   0.061388          0.162392   \n",
      "min       0.000000     0.000000                   0.000000          0.000000   \n",
      "25%       0.000000     0.000000                   0.000000          0.000000   \n",
      "50%       0.000000     0.000000                   0.000000          0.000000   \n",
      "75%       0.000000     0.000000                   0.000000          0.000000   \n",
      "max       5.000000     5.000000                   5.000000         10.000000   \n",
      "\n",
      "       Mammal Excrement         Mold  Rodent Hair         Sand         Soil  \n",
      "count       6634.000000  6634.000000  6634.000000  6634.000000  6634.000000  \n",
      "mean           0.000754     0.008592     0.000754     0.000754     0.000754  \n",
      "std            0.061388     0.455549     0.061388     0.061388     0.061388  \n",
      "min            0.000000     0.000000     0.000000     0.000000     0.000000  \n",
      "25%            0.000000     0.000000     0.000000     0.000000     0.000000  \n",
      "50%            0.000000     0.000000     0.000000     0.000000     0.000000  \n",
      "75%            0.000000     0.000000     0.000000     0.000000     0.000000  \n",
      "max            5.000000    26.000000     5.000000     5.000000     5.000000  \n"
     ]
    }
   ],
   "source": [
    "print(df_foreign_material_results.dtypes)\n",
    "print(df_foreign_material_results.describe())"
   ]
  },
  {
   "cell_type": "code",
   "execution_count": 39,
   "metadata": {},
   "outputs": [
    {
     "data": {
      "text/html": [
       "<div>\n",
       "<style scoped>\n",
       "    .dataframe tbody tr th:only-of-type {\n",
       "        vertical-align: middle;\n",
       "    }\n",
       "\n",
       "    .dataframe tbody tr th {\n",
       "        vertical-align: top;\n",
       "    }\n",
       "\n",
       "    .dataframe thead th {\n",
       "        text-align: right;\n",
       "    }\n",
       "</style>\n",
       "<table border=\"1\" class=\"dataframe\">\n",
       "  <thead>\n",
       "    <tr style=\"text-align: right;\">\n",
       "      <th></th>\n",
       "      <th>Cinders</th>\n",
       "      <th>Dirt</th>\n",
       "      <th>Imbedded Foreign Material</th>\n",
       "      <th>Insect Fragments</th>\n",
       "      <th>Mammal Excrement</th>\n",
       "      <th>Mold</th>\n",
       "      <th>Rodent Hair</th>\n",
       "      <th>Sand</th>\n",
       "      <th>Soil</th>\n",
       "    </tr>\n",
       "  </thead>\n",
       "  <tbody>\n",
       "    <tr>\n",
       "      <th>count</th>\n",
       "      <td>6.000000</td>\n",
       "      <td>6.000000</td>\n",
       "      <td>6.000000</td>\n",
       "      <td>6.000000</td>\n",
       "      <td>6.000000</td>\n",
       "      <td>6.000000</td>\n",
       "      <td>6.000000</td>\n",
       "      <td>6.000000</td>\n",
       "      <td>6.000000</td>\n",
       "    </tr>\n",
       "    <tr>\n",
       "      <th>mean</th>\n",
       "      <td>0.833333</td>\n",
       "      <td>0.833333</td>\n",
       "      <td>0.833333</td>\n",
       "      <td>3.833333</td>\n",
       "      <td>0.833333</td>\n",
       "      <td>5.166667</td>\n",
       "      <td>0.833333</td>\n",
       "      <td>0.833333</td>\n",
       "      <td>0.833333</td>\n",
       "    </tr>\n",
       "    <tr>\n",
       "      <th>std</th>\n",
       "      <td>2.041241</td>\n",
       "      <td>2.041241</td>\n",
       "      <td>2.041241</td>\n",
       "      <td>4.167333</td>\n",
       "      <td>2.041241</td>\n",
       "      <td>10.400321</td>\n",
       "      <td>2.041241</td>\n",
       "      <td>2.041241</td>\n",
       "      <td>2.041241</td>\n",
       "    </tr>\n",
       "    <tr>\n",
       "      <th>min</th>\n",
       "      <td>0.000000</td>\n",
       "      <td>0.000000</td>\n",
       "      <td>0.000000</td>\n",
       "      <td>0.000000</td>\n",
       "      <td>0.000000</td>\n",
       "      <td>0.000000</td>\n",
       "      <td>0.000000</td>\n",
       "      <td>0.000000</td>\n",
       "      <td>0.000000</td>\n",
       "    </tr>\n",
       "    <tr>\n",
       "      <th>25%</th>\n",
       "      <td>0.000000</td>\n",
       "      <td>0.000000</td>\n",
       "      <td>0.000000</td>\n",
       "      <td>0.250000</td>\n",
       "      <td>0.000000</td>\n",
       "      <td>0.000000</td>\n",
       "      <td>0.000000</td>\n",
       "      <td>0.000000</td>\n",
       "      <td>0.000000</td>\n",
       "    </tr>\n",
       "    <tr>\n",
       "      <th>50%</th>\n",
       "      <td>0.000000</td>\n",
       "      <td>0.000000</td>\n",
       "      <td>0.000000</td>\n",
       "      <td>3.000000</td>\n",
       "      <td>0.000000</td>\n",
       "      <td>0.000000</td>\n",
       "      <td>0.000000</td>\n",
       "      <td>0.000000</td>\n",
       "      <td>0.000000</td>\n",
       "    </tr>\n",
       "    <tr>\n",
       "      <th>75%</th>\n",
       "      <td>0.000000</td>\n",
       "      <td>0.000000</td>\n",
       "      <td>0.000000</td>\n",
       "      <td>6.500000</td>\n",
       "      <td>0.000000</td>\n",
       "      <td>3.750000</td>\n",
       "      <td>0.000000</td>\n",
       "      <td>0.000000</td>\n",
       "      <td>0.000000</td>\n",
       "    </tr>\n",
       "    <tr>\n",
       "      <th>max</th>\n",
       "      <td>5.000000</td>\n",
       "      <td>5.000000</td>\n",
       "      <td>5.000000</td>\n",
       "      <td>10.000000</td>\n",
       "      <td>5.000000</td>\n",
       "      <td>26.000000</td>\n",
       "      <td>5.000000</td>\n",
       "      <td>5.000000</td>\n",
       "      <td>5.000000</td>\n",
       "    </tr>\n",
       "  </tbody>\n",
       "</table>\n",
       "</div>"
      ],
      "text/plain": [
       "        Cinders      Dirt  Imbedded Foreign Material  Insect Fragments  \\\n",
       "count  6.000000  6.000000                   6.000000          6.000000   \n",
       "mean   0.833333  0.833333                   0.833333          3.833333   \n",
       "std    2.041241  2.041241                   2.041241          4.167333   \n",
       "min    0.000000  0.000000                   0.000000          0.000000   \n",
       "25%    0.000000  0.000000                   0.000000          0.250000   \n",
       "50%    0.000000  0.000000                   0.000000          3.000000   \n",
       "75%    0.000000  0.000000                   0.000000          6.500000   \n",
       "max    5.000000  5.000000                   5.000000         10.000000   \n",
       "\n",
       "       Mammal Excrement       Mold  Rodent Hair      Sand      Soil  \n",
       "count          6.000000   6.000000     6.000000  6.000000  6.000000  \n",
       "mean           0.833333   5.166667     0.833333  0.833333  0.833333  \n",
       "std            2.041241  10.400321     2.041241  2.041241  2.041241  \n",
       "min            0.000000   0.000000     0.000000  0.000000  0.000000  \n",
       "25%            0.000000   0.000000     0.000000  0.000000  0.000000  \n",
       "50%            0.000000   0.000000     0.000000  0.000000  0.000000  \n",
       "75%            0.000000   3.750000     0.000000  0.000000  0.000000  \n",
       "max            5.000000  26.000000     5.000000  5.000000  5.000000  "
      ]
     },
     "execution_count": 39,
     "metadata": {},
     "output_type": "execute_result"
    }
   ],
   "source": [
    "df_foreign_material_results = df_foreign_material_results.drop_duplicates()\n",
    "df_foreign_material_results.describe()"
   ]
  },
  {
   "cell_type": "code",
   "execution_count": 43,
   "metadata": {},
   "outputs": [
    {
     "data": {
      "image/png": "[encoded data removed]",
      "text/plain": [
       "<Figure size 432x288 with 1 Axes>"
      ]
     },
     "metadata": {
      "needs_background": "light"
     },
     "output_type": "display_data"
    }
   ],
   "source": [
    "sns.distplot(df_foreign_material_results['Mold'], hist=False, rug=True);"
   ]
  },
  {
   "cell_type": "code",
   "execution_count": 49,
   "metadata": {},
   "outputs": [
    {
     "data": {
      "image/png": "[encoded data removed]",
      "text/plain": [
       "<Figure size 432x288 with 1 Axes>"
      ]
     },
     "metadata": {
      "needs_background": "light"
     },
     "output_type": "display_data"
    }
   ],
   "source": [
    "sns.distplot(df_foreign_material_results['Cinders'], hist=False, rug=True);\n",
    "sns.distplot(df_foreign_material_results['Dirt'], hist=False, rug=True);\n",
    "sns.distplot(df_foreign_material_results['Imbedded Foreign Material'], hist=False, rug=True);\n",
    "sns.distplot(df_foreign_material_results['Rodent Hair'], hist=False, rug=True);\n",
    "sns.distplot(df_foreign_material_results['Sand'], hist=False, rug=True);\n",
    "sns.distplot(df_foreign_material_results['Soil'], hist=False, rug=True);"
   ]
  },
  {
   "cell_type": "code",
   "execution_count": 50,
   "metadata": {},
   "outputs": [
    {
     "data": {
      "image/png": "[encoded data removed]",
      "text/plain": [
       "<Figure size 432x288 with 1 Axes>"
      ]
     },
     "metadata": {
      "needs_background": "light"
     },
     "output_type": "display_data"
    }
   ],
   "source": [
    "sns.distplot(df_foreign_material_results['Insect Fragments'], hist=False, rug=True);"
   ]
  },
  {
   "cell_type": "code",
   "execution_count": null,
   "metadata": {},
   "outputs": [],
   "source": []
  },
  {
   "cell_type": "code",
   "execution_count": null,
   "metadata": {},
   "outputs": [],
   "source": []
  },
  {
   "cell_type": "code",
   "execution_count": null,
   "metadata": {},
   "outputs": [],
   "source": []
  },
  {
   "cell_type": "code",
   "execution_count": null,
   "metadata": {},
   "outputs": [],
   "source": []
  },
  {
   "cell_type": "markdown",
   "metadata": {},
   "source": [
    "<h5>Homogeneity Results</h5>"
   ]
  },
  {
   "cell_type": "code",
   "execution_count": 13,
   "metadata": {},
   "outputs": [
    {
     "name": "stdout",
     "output_type": "stream",
     "text": [
      "not_included 1\n",
      "(17, 2)\n",
      "    index THC RSD\n",
      "0  amount       0\n",
      "1  amount     9.1\n",
      "2  amount    9.65\n",
      "3  amount     5.9\n",
      "4  amount    8.29\n"
     ]
    }
   ],
   "source": [
    "df_homogeneity_results = extract_flat_results(df_homo, 'homogeneity_test')"
   ]
  },
  {
   "cell_type": "code",
   "execution_count": 14,
   "metadata": {},
   "outputs": [],
   "source": [
    "check_data(df_homo, 'homogeneity_test')"
   ]
  },
  {
   "cell_type": "code",
   "execution_count": 32,
   "metadata": {},
   "outputs": [],
   "source": [
    "df_homogeneity_results = drop_index(df_homogeneity_results)"
   ]
  },
  {
   "cell_type": "code",
   "execution_count": 37,
   "metadata": {},
   "outputs": [
    {
     "name": "stdout",
     "output_type": "stream",
     "text": [
      "THC RSD    float64\n",
      "dtype: object\n",
      "         THC RSD\n",
      "count  17.000000\n",
      "mean    6.691176\n",
      "std     4.485542\n",
      "min     0.000000\n",
      "25%     3.460000\n",
      "50%     5.900000\n",
      "75%     9.520000\n",
      "max    18.070000\n",
      "[  0.     9.1    9.65   5.9    8.29   3.46   1.32   2.81   6.1   18.07\n",
      "   4.33   4.04  10.56   3.33  11.86   5.41   9.52]\n"
     ]
    }
   ],
   "source": [
    "print(df_homogeneity_results.dtypes)\n",
    "print(df_homogeneity_results.describe())\n",
    "print(df_homogeneity_results['THC RSD'].unique())"
   ]
  },
  {
   "cell_type": "code",
   "execution_count": 36,
   "metadata": {},
   "outputs": [],
   "source": [
    "df_homogeneity_results = df_homogeneity_results.astype('float64')"
   ]
  },
  {
   "cell_type": "code",
   "execution_count": 38,
   "metadata": {},
   "outputs": [
    {
     "data": {
      "image/png": "[encoded data removed]",
      "text/plain": [
       "<Figure size 432x288 with 1 Axes>"
      ]
     },
     "metadata": {
      "needs_background": "light"
     },
     "output_type": "display_data"
    }
   ],
   "source": [
    "sns.distplot(df_homogeneity_results['THC RSD'], hist=False, rug=True);"
   ]
  },
  {
   "cell_type": "markdown",
   "metadata": {},
   "source": [
    "<h5>Moisture Test</h5>"
   ]
  },
  {
   "cell_type": "code",
   "execution_count": 15,
   "metadata": {},
   "outputs": [
    {
     "name": "stdout",
     "output_type": "stream",
     "text": [
      "not_included 3\n",
      "(4859, 2)\n",
      "    index Moisture\n",
      "0  amount      6.1\n",
      "1  amount      7.6\n",
      "2  amount        9\n",
      "3  amount      6.8\n",
      "4  amount      6.6\n"
     ]
    }
   ],
   "source": [
    "df_moisture_results = extract_flat_results(df_moist, 'moisture_test')"
   ]
  },
  {
   "cell_type": "code",
   "execution_count": 16,
   "metadata": {},
   "outputs": [],
   "source": [
    "check_data(df_moist, 'moisture_test')"
   ]
  },
  {
   "cell_type": "code",
   "execution_count": 51,
   "metadata": {},
   "outputs": [],
   "source": [
    "df_moisture_results = drop_index(df_moisture_results)"
   ]
  },
  {
   "cell_type": "code",
   "execution_count": 53,
   "metadata": {},
   "outputs": [
    {
     "data": {
      "text/html": [
       "<div>\n",
       "<style scoped>\n",
       "    .dataframe tbody tr th:only-of-type {\n",
       "        vertical-align: middle;\n",
       "    }\n",
       "\n",
       "    .dataframe tbody tr th {\n",
       "        vertical-align: top;\n",
       "    }\n",
       "\n",
       "    .dataframe thead th {\n",
       "        text-align: right;\n",
       "    }\n",
       "</style>\n",
       "<table border=\"1\" class=\"dataframe\">\n",
       "  <thead>\n",
       "    <tr style=\"text-align: right;\">\n",
       "      <th></th>\n",
       "      <th>Moisture</th>\n",
       "    </tr>\n",
       "  </thead>\n",
       "  <tbody>\n",
       "    <tr>\n",
       "      <th>count</th>\n",
       "      <td>4859.000000</td>\n",
       "    </tr>\n",
       "    <tr>\n",
       "      <th>mean</th>\n",
       "      <td>7.585451</td>\n",
       "    </tr>\n",
       "    <tr>\n",
       "      <th>std</th>\n",
       "      <td>3.929382</td>\n",
       "    </tr>\n",
       "    <tr>\n",
       "      <th>min</th>\n",
       "      <td>0.000000</td>\n",
       "    </tr>\n",
       "    <tr>\n",
       "      <th>25%</th>\n",
       "      <td>6.500000</td>\n",
       "    </tr>\n",
       "    <tr>\n",
       "      <th>50%</th>\n",
       "      <td>7.300000</td>\n",
       "    </tr>\n",
       "    <tr>\n",
       "      <th>75%</th>\n",
       "      <td>8.000000</td>\n",
       "    </tr>\n",
       "    <tr>\n",
       "      <th>max</th>\n",
       "      <td>76.500000</td>\n",
       "    </tr>\n",
       "  </tbody>\n",
       "</table>\n",
       "</div>"
      ],
      "text/plain": [
       "          Moisture\n",
       "count  4859.000000\n",
       "mean      7.585451\n",
       "std       3.929382\n",
       "min       0.000000\n",
       "25%       6.500000\n",
       "50%       7.300000\n",
       "75%       8.000000\n",
       "max      76.500000"
      ]
     },
     "execution_count": 53,
     "metadata": {},
     "output_type": "execute_result"
    }
   ],
   "source": [
    "df_moisture_results = df_moisture_results.astype('float64')\n",
    "df_moisture_results.describe()"
   ]
  },
  {
   "cell_type": "code",
   "execution_count": 59,
   "metadata": {},
   "outputs": [
    {
     "data": {
      "text/html": [
       "<div>\n",
       "<style scoped>\n",
       "    .dataframe tbody tr th:only-of-type {\n",
       "        vertical-align: middle;\n",
       "    }\n",
       "\n",
       "    .dataframe tbody tr th {\n",
       "        vertical-align: top;\n",
       "    }\n",
       "\n",
       "    .dataframe thead th {\n",
       "        text-align: right;\n",
       "    }\n",
       "</style>\n",
       "<table border=\"1\" class=\"dataframe\">\n",
       "  <thead>\n",
       "    <tr style=\"text-align: right;\">\n",
       "      <th></th>\n",
       "      <th>Moisture</th>\n",
       "    </tr>\n",
       "  </thead>\n",
       "  <tbody>\n",
       "    <tr>\n",
       "      <th>count</th>\n",
       "      <td>155.000000</td>\n",
       "    </tr>\n",
       "    <tr>\n",
       "      <th>mean</th>\n",
       "      <td>16.060045</td>\n",
       "    </tr>\n",
       "    <tr>\n",
       "      <th>std</th>\n",
       "      <td>18.788645</td>\n",
       "    </tr>\n",
       "    <tr>\n",
       "      <th>min</th>\n",
       "      <td>0.000000</td>\n",
       "    </tr>\n",
       "    <tr>\n",
       "      <th>25%</th>\n",
       "      <td>4.850000</td>\n",
       "    </tr>\n",
       "    <tr>\n",
       "      <th>50%</th>\n",
       "      <td>8.600000</td>\n",
       "    </tr>\n",
       "    <tr>\n",
       "      <th>75%</th>\n",
       "      <td>16.900000</td>\n",
       "    </tr>\n",
       "    <tr>\n",
       "      <th>max</th>\n",
       "      <td>76.500000</td>\n",
       "    </tr>\n",
       "  </tbody>\n",
       "</table>\n",
       "</div>"
      ],
      "text/plain": [
       "         Moisture\n",
       "count  155.000000\n",
       "mean    16.060045\n",
       "std     18.788645\n",
       "min      0.000000\n",
       "25%      4.850000\n",
       "50%      8.600000\n",
       "75%     16.900000\n",
       "max     76.500000"
      ]
     },
     "execution_count": 59,
     "metadata": {},
     "output_type": "execute_result"
    }
   ],
   "source": [
    "df_moisture_results.drop_duplicates().describe()"
   ]
  },
  {
   "cell_type": "code",
   "execution_count": 60,
   "metadata": {},
   "outputs": [
    {
     "data": {
      "image/png": "[encoded data removed]",
      "text/plain": [
       "<Figure size 432x288 with 1 Axes>"
      ]
     },
     "metadata": {
      "needs_background": "light"
     },
     "output_type": "display_data"
    }
   ],
   "source": [
    "sns.distplot(df_moisture_results.drop_duplicates().Moisture, hist=False, rug=True);"
   ]
  },
  {
   "cell_type": "code",
   "execution_count": 58,
   "metadata": {},
   "outputs": [
    {
     "data": {
      "image/png": "[encoded data removed]",
      "text/plain": [
       "<Figure size 432x288 with 1 Axes>"
      ]
     },
     "metadata": {
      "needs_background": "light"
     },
     "output_type": "display_data"
    }
   ],
   "source": [
    "sns.distplot(df_moisture_results['Moisture'], hist=False, rug=True);"
   ]
  },
  {
   "cell_type": "code",
   "execution_count": 55,
   "metadata": {},
   "outputs": [
    {
     "data": {
      "image/png": "[encoded data removed]",
      "text/plain": [
       "<Figure size 432x288 with 1 Axes>"
      ]
     },
     "metadata": {
      "needs_background": "light"
     },
     "output_type": "display_data"
    }
   ],
   "source": [
    "sns.distplot(df_moisture_results['Moisture'], kde=False, rug=True);"
   ]
  },
  {
   "cell_type": "markdown",
   "metadata": {},
   "source": [
    "<h5>Water Activity</h5>"
   ]
  },
  {
   "cell_type": "code",
   "execution_count": 17,
   "metadata": {},
   "outputs": [
    {
     "name": "stdout",
     "output_type": "stream",
     "text": [
      "not_included 3\n",
      "(3050, 2)\n",
      "    index Water Activity\n",
      "0  amount            0.5\n",
      "1  amount           0.59\n",
      "2  amount           0.58\n",
      "3  amount           0.53\n",
      "4  amount           0.54\n"
     ]
    }
   ],
   "source": [
    "df_water_activity = extract_flat_results(df_water_act, 'water_activity_test')"
   ]
  },
  {
   "cell_type": "code",
   "execution_count": 18,
   "metadata": {},
   "outputs": [
    {
     "name": "stdout",
     "output_type": "stream",
     "text": [
      "2\n",
      "[{'analyte': 'Water Activity', 'units': 'Aw', 'amount': 0}]\n",
      "[{'analyte': 'Water Activity', 'units': 'Aw', 'amount': 0}]\n"
     ]
    }
   ],
   "source": [
    "check_data(df_water_act, 'water_activity_test')"
   ]
  },
  {
   "cell_type": "code",
   "execution_count": 61,
   "metadata": {},
   "outputs": [
    {
     "name": "stdout",
     "output_type": "stream",
     "text": [
      "Water Activity    object\n",
      "dtype: object\n"
     ]
    }
   ],
   "source": [
    "df_water_activity = drop_index(df_water_activity)\n",
    "print(df_water_activity.dtypes)"
   ]
  },
  {
   "cell_type": "code",
   "execution_count": 62,
   "metadata": {},
   "outputs": [],
   "source": [
    "df_water_activity = df_water_activity.astype('float64')"
   ]
  },
  {
   "cell_type": "code",
   "execution_count": 65,
   "metadata": {},
   "outputs": [
    {
     "data": {
      "text/plain": [
       "array([ 0.5  ,  0.59 ,  0.58 ,  0.53 ,  0.54 ,  0.56 ,  0.52 ,  0.63 ,\n",
       "        0.46 ,  0.47 ,  0.51 ,  0.57 ,  0.49 ,  0.42 ,  0.44 ,  0.45 ,\n",
       "        0.37 ,  0.61 ,  0.67 ,  0.55 ,  0.16 ,  0.64 ,  0.66 ,  0.   ,\n",
       "        0.41 ,  0.65 ,  0.48 ,  0.39 ,  0.43 ,  0.62 ,  0.38 ,  0.26 ,\n",
       "        0.6  ,  0.68 ,  0.4  ,  0.73 ,  0.22 ,  0.3  ,  0.27 ,  0.7  ,\n",
       "        0.33 ,  0.36 ,  0.34 ,  0.76 ,  0.32 ,  0.35 ,  0.72 ,  0.69 ,\n",
       "        0.11 ,  0.78 ,  0.2  ,  0.278,  0.75 ,  0.74 ,  0.14 ,  0.08 ,\n",
       "        0.1  ,  0.06 ,  0.15 ,  0.09 ,  0.07 ,  0.04 ,  0.79 ,  0.23 ,\n",
       "        0.71 ,  0.77 ,  0.82 ,  0.83 ,  0.17 ,  0.8  ,  0.81 ,  0.13 ,\n",
       "        0.18 ])"
      ]
     },
     "execution_count": 65,
     "metadata": {},
     "output_type": "execute_result"
    }
   ],
   "source": [
    "df_water_activity['Water Activity'].unique()"
   ]
  },
  {
   "cell_type": "code",
   "execution_count": 66,
   "metadata": {},
   "outputs": [
    {
     "data": {
      "text/html": [
       "<div>\n",
       "<style scoped>\n",
       "    .dataframe tbody tr th:only-of-type {\n",
       "        vertical-align: middle;\n",
       "    }\n",
       "\n",
       "    .dataframe tbody tr th {\n",
       "        vertical-align: top;\n",
       "    }\n",
       "\n",
       "    .dataframe thead th {\n",
       "        text-align: right;\n",
       "    }\n",
       "</style>\n",
       "<table border=\"1\" class=\"dataframe\">\n",
       "  <thead>\n",
       "    <tr style=\"text-align: right;\">\n",
       "      <th></th>\n",
       "      <th>Water Activity</th>\n",
       "    </tr>\n",
       "  </thead>\n",
       "  <tbody>\n",
       "    <tr>\n",
       "      <th>count</th>\n",
       "      <td>3050.000000</td>\n",
       "    </tr>\n",
       "    <tr>\n",
       "      <th>mean</th>\n",
       "      <td>0.545612</td>\n",
       "    </tr>\n",
       "    <tr>\n",
       "      <th>std</th>\n",
       "      <td>0.083444</td>\n",
       "    </tr>\n",
       "    <tr>\n",
       "      <th>min</th>\n",
       "      <td>0.000000</td>\n",
       "    </tr>\n",
       "    <tr>\n",
       "      <th>25%</th>\n",
       "      <td>0.510000</td>\n",
       "    </tr>\n",
       "    <tr>\n",
       "      <th>50%</th>\n",
       "      <td>0.550000</td>\n",
       "    </tr>\n",
       "    <tr>\n",
       "      <th>75%</th>\n",
       "      <td>0.590000</td>\n",
       "    </tr>\n",
       "    <tr>\n",
       "      <th>max</th>\n",
       "      <td>0.830000</td>\n",
       "    </tr>\n",
       "  </tbody>\n",
       "</table>\n",
       "</div>"
      ],
      "text/plain": [
       "       Water Activity\n",
       "count     3050.000000\n",
       "mean         0.545612\n",
       "std          0.083444\n",
       "min          0.000000\n",
       "25%          0.510000\n",
       "50%          0.550000\n",
       "75%          0.590000\n",
       "max          0.830000"
      ]
     },
     "execution_count": 66,
     "metadata": {},
     "output_type": "execute_result"
    }
   ],
   "source": [
    "df_water_activity.describe()"
   ]
  },
  {
   "cell_type": "code",
   "execution_count": 64,
   "metadata": {},
   "outputs": [
    {
     "data": {
      "image/png": "[encoded data removed]",
      "text/plain": [
       "<Figure size 432x288 with 1 Axes>"
      ]
     },
     "metadata": {
      "needs_background": "light"
     },
     "output_type": "display_data"
    }
   ],
   "source": [
    "sns.distplot(df_water_activity['Water Activity'], hist=False, rug=True, kde=True);"
   ]
  },
  {
   "cell_type": "code",
   "execution_count": 67,
   "metadata": {},
   "outputs": [
    {
     "data": {
      "text/html": [
       "<div>\n",
       "<style scoped>\n",
       "    .dataframe tbody tr th:only-of-type {\n",
       "        vertical-align: middle;\n",
       "    }\n",
       "\n",
       "    .dataframe tbody tr th {\n",
       "        vertical-align: top;\n",
       "    }\n",
       "\n",
       "    .dataframe thead th {\n",
       "        text-align: right;\n",
       "    }\n",
       "</style>\n",
       "<table border=\"1\" class=\"dataframe\">\n",
       "  <thead>\n",
       "    <tr style=\"text-align: right;\">\n",
       "      <th></th>\n",
       "      <th>Water Activity</th>\n",
       "    </tr>\n",
       "  </thead>\n",
       "  <tbody>\n",
       "    <tr>\n",
       "      <th>count</th>\n",
       "      <td>73.000000</td>\n",
       "    </tr>\n",
       "    <tr>\n",
       "      <th>mean</th>\n",
       "      <td>0.453945</td>\n",
       "    </tr>\n",
       "    <tr>\n",
       "      <th>std</th>\n",
       "      <td>0.234599</td>\n",
       "    </tr>\n",
       "    <tr>\n",
       "      <th>min</th>\n",
       "      <td>0.000000</td>\n",
       "    </tr>\n",
       "    <tr>\n",
       "      <th>25%</th>\n",
       "      <td>0.270000</td>\n",
       "    </tr>\n",
       "    <tr>\n",
       "      <th>50%</th>\n",
       "      <td>0.470000</td>\n",
       "    </tr>\n",
       "    <tr>\n",
       "      <th>75%</th>\n",
       "      <td>0.650000</td>\n",
       "    </tr>\n",
       "    <tr>\n",
       "      <th>max</th>\n",
       "      <td>0.830000</td>\n",
       "    </tr>\n",
       "  </tbody>\n",
       "</table>\n",
       "</div>"
      ],
      "text/plain": [
       "       Water Activity\n",
       "count       73.000000\n",
       "mean         0.453945\n",
       "std          0.234599\n",
       "min          0.000000\n",
       "25%          0.270000\n",
       "50%          0.470000\n",
       "75%          0.650000\n",
       "max          0.830000"
      ]
     },
     "execution_count": 67,
     "metadata": {},
     "output_type": "execute_result"
    }
   ],
   "source": [
    "df_water_activity.drop_duplicates().describe()"
   ]
  },
  {
   "cell_type": "code",
   "execution_count": 68,
   "metadata": {},
   "outputs": [
    {
     "data": {
      "image/png": "[encoded data removed]",
      "text/plain": [
       "<Figure size 432x288 with 1 Axes>"
      ]
     },
     "metadata": {
      "needs_background": "light"
     },
     "output_type": "display_data"
    }
   ],
   "source": [
    "sns.distplot(df_water_activity.drop_duplicates()['Water Activity'], hist=False, rug=True);"
   ]
  },
  {
   "cell_type": "code",
   "execution_count": 97,
   "metadata": {},
   "outputs": [
    {
     "name": "stdout",
     "output_type": "stream",
     "text": [
      "                                             analyte  passed  units  amount  \\\n",
      "Cinders                                      Cinders    True      %       0   \n",
      "Dirt                                            Dirt    True      %       0   \n",
      "Imbedded Foreign Material  Imbedded Foreign Material    True      %       0   \n",
      "Insect Fragments                    Insect Fragments    True  Units       0   \n",
      "Mammal Excrement                    Mammal Excrement    True  Units       0   \n",
      "Mold                                            Mold    True      %       0   \n",
      "Rodent Hair                              Rodent Hair    True  Units       0   \n",
      "Sand                                            Sand    True      %       0   \n",
      "Soil                                            Soil    True      %       0   \n",
      "\n",
      "                          detection_limits  \n",
      "Cinders                               None  \n",
      "Dirt                                  None  \n",
      "Imbedded Foreign Material             None  \n",
      "Insect Fragments                      None  \n",
      "Mammal Excrement                      None  \n",
      "Mold                                  None  \n",
      "Rodent Hair                           None  \n",
      "Sand                                  None  \n",
      "Soil                                  None  \n"
     ]
    }
   ],
   "source": [
    "print_sample_of_original(df_for_mat, 'foreign_material_test')"
   ]
  },
  {
   "cell_type": "code",
   "execution_count": null,
   "metadata": {},
   "outputs": [],
   "source": []
  }
 ],
 "metadata": {
  "kernelspec": {
   "display_name": "Python 3",
   "language": "python",
   "name": "python3"
  },
  "language_info": {
   "codemirror_mode": {
    "name": "ipython",
    "version": 3
   },
   "file_extension": ".py",
   "mimetype": "text/x-python",
   "name": "python",
   "nbconvert_exporter": "python",
   "pygments_lexer": "ipython3",
   "version": "3.5.5"
  }
 },
 "nbformat": 4,
 "nbformat_minor": 2
}
